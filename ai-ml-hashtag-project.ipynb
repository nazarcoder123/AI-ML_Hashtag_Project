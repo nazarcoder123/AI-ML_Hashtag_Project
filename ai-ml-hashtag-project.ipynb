{
 "cells": [
  {
   "cell_type": "code",
   "execution_count": 1,
   "id": "84e9686f",
   "metadata": {
    "execution": {
     "iopub.execute_input": "2023-05-16T12:01:21.131326Z",
     "iopub.status.busy": "2023-05-16T12:01:21.130783Z",
     "iopub.status.idle": "2023-05-16T12:01:33.145755Z",
     "shell.execute_reply": "2023-05-16T12:01:33.144273Z"
    },
    "papermill": {
     "duration": 12.025039,
     "end_time": "2023-05-16T12:01:33.149008",
     "exception": false,
     "start_time": "2023-05-16T12:01:21.123969",
     "status": "completed"
    },
    "tags": []
   },
   "outputs": [
    {
     "name": "stderr",
     "output_type": "stream",
     "text": [
      "/opt/conda/lib/python3.10/site-packages/scipy/__init__.py:146: UserWarning: A NumPy version >=1.16.5 and <1.23.0 is required for this version of SciPy (detected version 1.23.5\n",
      "  warnings.warn(f\"A NumPy version >={np_minversion} and <{np_maxversion}\"\n"
     ]
    }
   ],
   "source": [
    "import numpy as np\n",
    "from PIL import Image\n",
    "import tensorflow as tf\n",
    "from tensorflow import keras\n",
    "from tensorflow.keras.applications.resnet50 import preprocess_input\n",
    "from tensorflow.keras.applications.resnet50 import decode_predictions"
   ]
  },
  {
   "cell_type": "code",
   "execution_count": 2,
   "id": "87cc602e",
   "metadata": {
    "execution": {
     "iopub.execute_input": "2023-05-16T12:01:33.161857Z",
     "iopub.status.busy": "2023-05-16T12:01:33.160247Z",
     "iopub.status.idle": "2023-05-16T12:01:39.550055Z",
     "shell.execute_reply": "2023-05-16T12:01:39.548408Z"
    },
    "papermill": {
     "duration": 6.399424,
     "end_time": "2023-05-16T12:01:39.553444",
     "exception": false,
     "start_time": "2023-05-16T12:01:33.154020",
     "status": "completed"
    },
    "tags": []
   },
   "outputs": [
    {
     "name": "stdout",
     "output_type": "stream",
     "text": [
      "Downloading data from https://storage.googleapis.com/tensorflow/keras-applications/resnet/resnet50_weights_tf_dim_ordering_tf_kernels.h5\n",
      "102967424/102967424 [==============================] - 3s 0us/step\n"
     ]
    }
   ],
   "source": [
    "# Load the pre-trained ResNet50 model\n",
    "model = keras.applications.ResNet50(weights='imagenet')"
   ]
  },
  {
   "cell_type": "code",
   "execution_count": 3,
   "id": "6375e4a5",
   "metadata": {
    "execution": {
     "iopub.execute_input": "2023-05-16T12:01:39.578557Z",
     "iopub.status.busy": "2023-05-16T12:01:39.578084Z",
     "iopub.status.idle": "2023-05-16T12:01:39.585359Z",
     "shell.execute_reply": "2023-05-16T12:01:39.583801Z"
    },
    "papermill": {
     "duration": 0.022756,
     "end_time": "2023-05-16T12:01:39.588307",
     "exception": false,
     "start_time": "2023-05-16T12:01:39.565551",
     "status": "completed"
    },
    "tags": []
   },
   "outputs": [],
   "source": [
    "# Function to preprocess the image\n",
    "def preprocess_image(image):\n",
    "    image = image.convert('RGB')  # Convert the image to RGB format\n",
    "    image = image.resize((224, 224))  # Resize the image to the required dimensions\n",
    "    image = np.array(image)  # Convert image to numpy array\n",
    "    image = preprocess_input(image)  # Preprocess the image\n",
    "    image = np.expand_dims(image, axis=0)  # Add batch dimension\n",
    "    return image"
   ]
  },
  {
   "cell_type": "code",
   "execution_count": 4,
   "id": "50b578c3",
   "metadata": {
    "execution": {
     "iopub.execute_input": "2023-05-16T12:01:39.612632Z",
     "iopub.status.busy": "2023-05-16T12:01:39.612161Z",
     "iopub.status.idle": "2023-05-16T12:01:39.618712Z",
     "shell.execute_reply": "2023-05-16T12:01:39.617722Z"
    },
    "papermill": {
     "duration": 0.022582,
     "end_time": "2023-05-16T12:01:39.621298",
     "exception": false,
     "start_time": "2023-05-16T12:01:39.598716",
     "status": "completed"
    },
    "tags": []
   },
   "outputs": [],
   "source": [
    "# Function to extract the top predicted labels from the image\n",
    "def extract_labels(image):\n",
    "    processed_image = preprocess_image(image)\n",
    "    predictions = model.predict(processed_image)\n",
    "    top_labels = decode_predictions(predictions, top=10)[0]\n",
    "    labels = [label[1] for label in top_labels]  # Extract label names\n",
    "    return labels"
   ]
  },
  {
   "cell_type": "code",
   "execution_count": 5,
   "id": "710e8ba6",
   "metadata": {
    "execution": {
     "iopub.execute_input": "2023-05-16T12:01:39.644640Z",
     "iopub.status.busy": "2023-05-16T12:01:39.644176Z",
     "iopub.status.idle": "2023-05-16T12:01:39.650401Z",
     "shell.execute_reply": "2023-05-16T12:01:39.648804Z"
    },
    "papermill": {
     "duration": 0.021139,
     "end_time": "2023-05-16T12:01:39.653056",
     "exception": false,
     "start_time": "2023-05-16T12:01:39.631917",
     "status": "completed"
    },
    "tags": []
   },
   "outputs": [],
   "source": [
    "# Function to generate hashtags from labels\n",
    "def generate_hashtags(labels):\n",
    "    hashtags = ['#' + label.replace('_', '') for label in labels]\n",
    "    return hashtags"
   ]
  },
  {
   "cell_type": "code",
   "execution_count": 6,
   "id": "db92183c",
   "metadata": {
    "execution": {
     "iopub.execute_input": "2023-05-16T12:01:39.675293Z",
     "iopub.status.busy": "2023-05-16T12:01:39.674829Z",
     "iopub.status.idle": "2023-05-16T12:01:39.681967Z",
     "shell.execute_reply": "2023-05-16T12:01:39.680732Z"
    },
    "papermill": {
     "duration": 0.021297,
     "end_time": "2023-05-16T12:01:39.684561",
     "exception": false,
     "start_time": "2023-05-16T12:01:39.663264",
     "status": "completed"
    },
    "tags": []
   },
   "outputs": [],
   "source": [
    "# Function to identify trending hashtags\n",
    "def identify_trending_hashtags(image_paths):\n",
    "    trending_hashtags = []\n",
    "    for image_path in image_paths:\n",
    "        image = Image.open(image_path)\n",
    "        labels = extract_labels(image)\n",
    "        hashtags = generate_hashtags(labels)\n",
    "        trending_hashtags.append(hashtags)\n",
    "    return trending_hashtags"
   ]
  },
  {
   "cell_type": "code",
   "execution_count": 7,
   "id": "ac0e25c3",
   "metadata": {
    "execution": {
     "iopub.execute_input": "2023-05-16T12:01:39.707364Z",
     "iopub.status.busy": "2023-05-16T12:01:39.706926Z",
     "iopub.status.idle": "2023-05-16T12:01:39.715172Z",
     "shell.execute_reply": "2023-05-16T12:01:39.712485Z"
    },
    "papermill": {
     "duration": 0.026128,
     "end_time": "2023-05-16T12:01:39.720951",
     "exception": false,
     "start_time": "2023-05-16T12:01:39.694823",
     "status": "completed"
    },
    "tags": []
   },
   "outputs": [],
   "source": [
    "# Test case - Provide a list of image paths\n",
    "image_paths = [\n",
    "    '/kaggle/input/images-123/imge1.png',\n",
    "    '/kaggle/input/images-123/imge2.png',\n",
    "    '/kaggle/input/images-123/imge3.png'\n",
    "]"
   ]
  },
  {
   "cell_type": "code",
   "execution_count": 8,
   "id": "f362ba51",
   "metadata": {
    "execution": {
     "iopub.execute_input": "2023-05-16T12:01:39.750213Z",
     "iopub.status.busy": "2023-05-16T12:01:39.749157Z",
     "iopub.status.idle": "2023-05-16T12:01:42.571188Z",
     "shell.execute_reply": "2023-05-16T12:01:42.570110Z"
    },
    "papermill": {
     "duration": 2.84029,
     "end_time": "2023-05-16T12:01:42.573997",
     "exception": false,
     "start_time": "2023-05-16T12:01:39.733707",
     "status": "completed"
    },
    "tags": []
   },
   "outputs": [
    {
     "name": "stdout",
     "output_type": "stream",
     "text": [
      "1/1 [==============================] - 2s 2s/step\n",
      "Downloading data from https://storage.googleapis.com/download.tensorflow.org/data/imagenet_class_index.json\n",
      "35363/35363 [==============================] - 0s 0us/step\n",
      "1/1 [==============================] - 0s 167ms/step\n",
      "1/1 [==============================] - 0s 153ms/step\n"
     ]
    }
   ],
   "source": [
    "# Identify trending hashtags for the test case images\n",
    "trending_hashtags = identify_trending_hashtags(image_paths)"
   ]
  },
  {
   "cell_type": "code",
   "execution_count": 9,
   "id": "c08f0db9",
   "metadata": {
    "execution": {
     "iopub.execute_input": "2023-05-16T12:01:42.598624Z",
     "iopub.status.busy": "2023-05-16T12:01:42.598141Z",
     "iopub.status.idle": "2023-05-16T12:01:42.605909Z",
     "shell.execute_reply": "2023-05-16T12:01:42.603738Z"
    },
    "papermill": {
     "duration": 0.023809,
     "end_time": "2023-05-16T12:01:42.608946",
     "exception": false,
     "start_time": "2023-05-16T12:01:42.585137",
     "status": "completed"
    },
    "tags": []
   },
   "outputs": [
    {
     "name": "stdout",
     "output_type": "stream",
     "text": [
      "Image 1 hashtags:\n",
      "['#shovel', '#bucket', '#cup', '#tray', \"#potter'swheel\", '#waterjug', '#skimask', '#mortar', '#conch', '#binoculars']\n",
      "\n",
      "Image 2 hashtags:\n",
      "['#brassiere', '#bikini', '#maillot', '#website', '#diaper', '#maillot', '#bathingcap', '#wig', '#notebook', '#BandAid']\n",
      "\n",
      "Image 3 hashtags:\n",
      "['#seashore', '#sandbar', '#Arabiancamel', '#cliff', '#promontory', '#amphibian', '#wreck', '#carwheel', '#parachute', '#beacon']\n",
      "\n"
     ]
    }
   ],
   "source": [
    "# Print the generated hashtags for each image\n",
    "for i, hashtags in enumerate(trending_hashtags):\n",
    "    print(f\"Image {i+1} hashtags:\")\n",
    "    print(hashtags)\n",
    "    print()"
   ]
  },
  {
   "cell_type": "markdown",
   "id": "63d9a47b",
   "metadata": {
    "papermill": {
     "duration": 0.011687,
     "end_time": "2023-05-16T12:01:42.632115",
     "exception": false,
     "start_time": "2023-05-16T12:01:42.620428",
     "status": "completed"
    },
    "tags": []
   },
   "source": [
    "## The provided code is an example implementation of an AI tool that identifies trending    hashtags for images based on their content. Here's a summary of the code:\n",
    "\n"
   ]
  },
  {
   "cell_type": "markdown",
   "id": "67b1c61f",
   "metadata": {
    "papermill": {
     "duration": 0.011229,
     "end_time": "2023-05-16T12:01:42.654303",
     "exception": false,
     "start_time": "2023-05-16T12:01:42.643074",
     "status": "completed"
    },
    "tags": []
   },
   "source": [
    "1.The code utilizes the ResNet50 model, pre-trained on the ImageNet dataset, which is capable of classifying images into various categories.\n",
    "\n",
    "2.The preprocess_image function is defined to resize the image to the required dimensions (224x224 pixels), convert it to a numpy array, and preprocess it according to the requirements of the ResNet50 model.\n",
    "\n",
    "3.The extract_labels function takes a preprocessed image as input, uses the ResNet50 model to make predictions on the image, and extracts the top predicted labels from the predictions.\n",
    "\n",
    "4.The generate_hashtags function generates hashtags from the extracted labels by adding a '#' symbol to the label names and removing any underscores.\n",
    "\n",
    "5.The identify_trending_hashtags function takes a list of image paths as input. It opens each image using the PIL library, extracts the labels using the extract_labels function, generates hashtags using the generate_hashtags function, and stores the hashtags for each image.\n",
    "\n",
    "6.In the provided test case, a list of image paths is created. The identify_trending_hashtags function is called with the image paths as input, and the resulting trending hashtags are stored in the trending_hashtags variable.\n",
    "\n",
    "Finally, the generated hashtags for each image are printed out for display."
   ]
  },
  {
   "cell_type": "code",
   "execution_count": null,
   "id": "0e4ada39",
   "metadata": {
    "papermill": {
     "duration": 0.011345,
     "end_time": "2023-05-16T12:01:42.676833",
     "exception": false,
     "start_time": "2023-05-16T12:01:42.665488",
     "status": "completed"
    },
    "tags": []
   },
   "outputs": [],
   "source": []
  }
 ],
 "metadata": {
  "kernelspec": {
   "display_name": "Python 3",
   "language": "python",
   "name": "python3"
  },
  "language_info": {
   "codemirror_mode": {
    "name": "ipython",
    "version": 3
   },
   "file_extension": ".py",
   "mimetype": "text/x-python",
   "name": "python",
   "nbconvert_exporter": "python",
   "pygments_lexer": "ipython3",
   "version": "3.10.10"
  },
  "papermill": {
   "default_parameters": {},
   "duration": 39.926065,
   "end_time": "2023-05-16T12:01:46.201645",
   "environment_variables": {},
   "exception": null,
   "input_path": "__notebook__.ipynb",
   "output_path": "__notebook__.ipynb",
   "parameters": {},
   "start_time": "2023-05-16T12:01:06.275580",
   "version": "2.4.0"
  }
 },
 "nbformat": 4,
 "nbformat_minor": 5
}
